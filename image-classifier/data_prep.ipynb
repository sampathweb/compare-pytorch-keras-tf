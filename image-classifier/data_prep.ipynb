{
 "cells": [
  {
   "cell_type": "code",
   "execution_count": 1,
   "metadata": {
    "collapsed": false,
    "deletable": true,
    "editable": true
   },
   "outputs": [
    {
     "name": "stderr",
     "output_type": "stream",
     "text": [
      "Using TensorFlow backend.\n"
     ]
    }
   ],
   "source": [
    "import os.path\n",
    "import numpy as np\n",
    "\n",
    "import keras.backend as K\n",
    "from keras.preprocessing.image import Iterator, load_img, img_to_array, ImageDataGenerator"
   ]
  },
  {
   "cell_type": "code",
   "execution_count": null,
   "metadata": {
    "collapsed": true,
    "deletable": true,
    "editable": true
   },
   "outputs": [],
   "source": [
    "def train_test_split(X, y, test_size=0.2):\n",
    "    X = np.array(X)\n",
    "    y = np.array(y)\n",
    "    indexes = np.random.permutation(range(len(X)))\n",
    "    X = X[indexes]\n",
    "    y = y[indexes]\n",
    "    \n",
    "    test_idx = int(len(X) * test_size)\n",
    "    X_test, y_test = X[:test_idx], y[:test_idx]\n",
    "    X_train, y_train = X[test_idx:], y[test_idx:]\n",
    "    \n",
    "    return (X_train, y_train), (X_test, y_test)\n",
    "\n",
    "\n",
    "def get_image_inputs_targets(df, target_columns, directory):\n",
    "    \"\"\"Return inputs and targets array\"\"\"\n",
    "    \n",
    "    mask = df.index.map(lambda filename: os.path.exists(os.path.join(directory, filename)))\n",
    "    data_df = df.ix[mask, target_columns]\n",
    "    \n",
    "    return data_df.index.values, data_df.values\n",
    "\n",
    "def load_index_targets(labels_df, target_col, directory, is_multi_classed=False):\n",
    "    \"\"\"Return inputs and targets array\"\"\"\n",
    "    \n",
    "    vald_files_mask = labels_df.index.map(lambda filename: os.path.exists(os.path.join(directory, filename)))\n",
    "    not_null_mask = labels_df[target_col].notnull()\n",
    "    mask = (vald_files_mask & not_null_mask)\n",
    "    if is_multi_classed:\n",
    "        data_df = labels_df.ix[mask, target_col].map(lambda values: [int(val) for val in values.split(\",\")])\n",
    "    else:\n",
    "        data_df = labels_df.ix[mask, target_col].astype(int)\n",
    "        \n",
    "    data = data_df.to_dict()\n",
    "    inputs, targets = zip(*data.items())\n",
    "    return inputs, targets\n",
    "\n",
    "\n",
    "class ImageFilesIterator(Iterator):\n",
    "    \"\"\"Iterator capable of reading images from a directory on disk.\n",
    "    # Arguments\n",
    "        directory: Path to the directory to read images from.\n",
    "            Each subdirectory in this directory will be\n",
    "            considered to contain images from one class,\n",
    "            or alternatively you could specify class subdirectories\n",
    "            via the `classes` argument.\n",
    "        image_data_generator: Instance of `ImageDataGenerator`\n",
    "            to use for random transformations and normalization.\n",
    "        target_size: tuple of integers, dimensions to resize input images to.\n",
    "        color_mode: One of `\"rgb\"`, `\"grayscale\"`. Color mode to read images.\n",
    "        classes: Optional list of strings, names of sudirectories\n",
    "            containing images from each class (e.g. `[\"dogs\", \"cats\"]`).\n",
    "            It will be computed automatically if not set.\n",
    "        class_mode: Mode for yielding the targets:\n",
    "            `\"binary\"`: binary targets (if there are only two classes),\n",
    "            `\"categorical\"`: categorical targets,\n",
    "            `\"sparse\"`: integer targets,\n",
    "            `None`: no targets get yielded (only input images are yielded).\n",
    "        batch_size: Integer, size of a batch.\n",
    "        shuffle: Boolean, whether to shuffle the data between epochs.\n",
    "        seed: Random seed for data shuffling.\n",
    "        data_format: String, one of `channels_first`, `channels_last`.\n",
    "        save_to_dir: Optional directory where to save the pictures\n",
    "            being yielded, in a viewable format. This is useful\n",
    "            for visualizing the random transformations being\n",
    "            applied, for debugging purposes.\n",
    "        save_prefix: String prefix to use for saving sample\n",
    "            images (if `save_to_dir` is set).\n",
    "        save_format: Format to use for saving sample images\n",
    "            (if `save_to_dir` is set).\n",
    "    \"\"\"\n",
    "\n",
    "    def __init__(self, directory, filenames, classes,\n",
    "                 image_data_generator,\n",
    "                 num_class=None, class_mode='categorical',\n",
    "                 target_size=(256, 256), color_mode='rgb',\n",
    "                 batch_size=32, shuffle=True, seed=None,\n",
    "                 data_format=None,\n",
    "                 save_to_dir=None, save_prefix='', save_format='jpeg',\n",
    "                 follow_links=False):\n",
    "        \n",
    "        if data_format is None:\n",
    "            data_format = K.image_data_format()\n",
    "            \n",
    "        self.directory = directory\n",
    "        self.filenames = filenames\n",
    "        self.classes = classes\n",
    "        self.num_class = num_class\n",
    "        self.class_mode = class_mode\n",
    "        self.samples = len(self.filenames)\n",
    "        self.image_data_generator = image_data_generator\n",
    "        self.target_size = tuple(target_size)\n",
    "\n",
    "        if color_mode not in {'rgb', 'grayscale'}:\n",
    "            raise ValueError('Invalid color mode:', color_mode,\n",
    "                             '; expected \"rgb\" or \"grayscale\".')\n",
    "        self.color_mode = color_mode\n",
    "        self.data_format = data_format\n",
    "        if self.color_mode == 'rgb':\n",
    "            if self.data_format == 'channels_last':\n",
    "                self.image_shape = self.target_size + (3,)\n",
    "            else:\n",
    "                self.image_shape = (3,) + self.target_size\n",
    "        else:\n",
    "            if self.data_format == 'channels_last':\n",
    "                self.image_shape = self.target_size + (1,)\n",
    "            else:\n",
    "                self.image_shape = (1,) + self.target_size\n",
    "\n",
    "        self.save_to_dir = save_to_dir\n",
    "        self.save_prefix = save_prefix\n",
    "        self.save_format = save_format\n",
    "\n",
    "        white_list_formats = {'png', 'jpg', 'jpeg', 'bmp'}\n",
    "\n",
    "        super().__init__(self.samples, batch_size, shuffle, seed)\n",
    "\n",
    "    def next(self):\n",
    "        \"\"\"For python 2.x.\n",
    "        # Returns\n",
    "            The next batch.\n",
    "        \"\"\"\n",
    "        with self.lock:\n",
    "            index_array, current_index, current_batch_size = next(self.index_generator)\n",
    "        # The transformation of images is not under thread lock\n",
    "        # so it can be done in parallel\n",
    "        batch_x = np.zeros((current_batch_size,) + self.image_shape, dtype=K.floatx())\n",
    "        grayscale = self.color_mode == 'grayscale'\n",
    "        # build batch of image data\n",
    "        err_indexes = []\n",
    "        for i, idx in enumerate(index_array):\n",
    "            fname = self.filenames[idx]\n",
    "            try:\n",
    "                img = load_img(os.path.join(self.directory, fname),\n",
    "                               grayscale=grayscale,\n",
    "                               target_size=self.target_size)\n",
    "                x = img_to_array(img, data_format=self.data_format)\n",
    "            except Exception:\n",
    "                err_indexes.append(idx)\n",
    "                continue\n",
    "            x = self.image_data_generator.random_transform(x)\n",
    "            x = self.image_data_generator.standardize(x)\n",
    "            batch_x[i] = x\n",
    "            \n",
    "        \n",
    "        # optionally save augmented images to disk for debugging purposes\n",
    "        if self.save_to_dir:\n",
    "            for i in range(current_batch_size):\n",
    "                img = array_to_img(batch_x[i], self.data_format, scale=True)\n",
    "                fname = '{prefix}_{index}_{hash}.{format}'.format(prefix=self.save_prefix,\n",
    "                                                                  index=current_index + i,\n",
    "                                                                  hash=np.random.randint(1e4),\n",
    "                                                                  format=self.save_format)\n",
    "                img.save(os.path.join(self.save_to_dir, fname))\n",
    "\n",
    "        # build batch of labels\n",
    "        if self.class_mode == 'sparse':\n",
    "            batch_y = self.classes[index_array]\n",
    "        elif self.class_mode == 'binary':\n",
    "            batch_y = self.classes[index_array].astype(K.floatx())\n",
    "        elif self.class_mode == 'categorical':\n",
    "            batch_y = np.zeros((len(batch_x), self.num_class), dtype=int)\n",
    "            for i, label in enumerate(self.classes[index_array]):\n",
    "                batch_y[i, label] = 1.\n",
    "        else:\n",
    "            return batch_x\n",
    "        return batch_x, batch_y\n",
    "    \n",
    "\n",
    "class ImageFilesGenerator(ImageDataGenerator):\n",
    "    \n",
    "    def flow_from_files(self, directory, \n",
    "                            filenames, \n",
    "                            classes, num_class=None,\n",
    "                            target_size=(256, 256), color_mode='rgb',\n",
    "                            class_mode='categorical',\n",
    "                            batch_size=32, shuffle=True, seed=None,\n",
    "                            save_to_dir=None,\n",
    "                            save_prefix='',\n",
    "                            save_format='jpeg',\n",
    "                            follow_links=False,\n",
    "                            files_iterator_cls=ImageFilesIterator):\n",
    "        return files_iterator_cls(\n",
    "            directory, filenames, classes, self, \n",
    "            num_class=num_class,\n",
    "            target_size=target_size, color_mode=color_mode,\n",
    "            class_mode=class_mode,\n",
    "            data_format=self.data_format,\n",
    "            batch_size=batch_size, shuffle=shuffle, seed=seed,\n",
    "            save_to_dir=save_to_dir,\n",
    "            save_prefix=save_prefix,\n",
    "            save_format=save_format,\n",
    "            follow_links=follow_links)\n"
   ]
  },
  {
   "cell_type": "code",
   "execution_count": 2,
   "metadata": {
    "collapsed": false,
    "deletable": true,
    "editable": true
   },
   "outputs": [
    {
     "name": "stderr",
     "output_type": "stream",
     "text": [
      "/Users/sampathweb/miniconda3/envs/py35/lib/python3.5/site-packages/matplotlib/__init__.py:913: UserWarning: axes.color_cycle is deprecated and replaced with axes.prop_cycle; please use the latter.\n",
      "  warnings.warn(self.msg_depr % (key, alt_key))\n"
     ]
    }
   ],
   "source": [
    "import numpy as np\n",
    "import pandas as pd\n",
    "import matplotlib.pyplot as plt\n",
    "\n",
    "%matplotlib inline"
   ]
  },
  {
   "cell_type": "code",
   "execution_count": 3,
   "metadata": {
    "collapsed": true,
    "deletable": true,
    "editable": true
   },
   "outputs": [],
   "source": [
    "import keras\n",
    "# from keras_tqdm import TQDMNotebookCallback\n",
    "\n",
    "# from utils import PlotLossNotebookCallback"
   ]
  },
  {
   "cell_type": "code",
   "execution_count": null,
   "metadata": {
    "collapsed": true,
    "deletable": true,
    "editable": true
   },
   "outputs": [],
   "source": [
    "from loaders import ImageFilesGenerator, train_test_split, load_index_targets\n",
    "from keras_preprocessing import preprocess_input_vgg16"
   ]
  },
  {
   "cell_type": "code",
   "execution_count": 14,
   "metadata": {
    "collapsed": false,
    "deletable": true,
    "editable": true
   },
   "outputs": [],
   "source": [
    "category_labels = pd.read_csv(\"data/labels.csv\")[[\"image\", \"category_GT\"]].dropna()\n",
    "category_labels.rename(columns={\"category_GT\": \"category\"}, inplace=True)\n",
    "category_labels[\"category\"] = category_labels.category.astype(int)"
   ]
  },
  {
   "cell_type": "code",
   "execution_count": 15,
   "metadata": {
    "collapsed": false,
    "deletable": true,
    "editable": true
   },
   "outputs": [],
   "source": [
    "category_labels.to_csv(\"data/category_labels.csv\", index=False)"
   ]
  },
  {
   "cell_type": "code",
   "execution_count": 1,
   "metadata": {
    "collapsed": false,
    "deletable": true,
    "editable": true
   },
   "outputs": [
    {
     "ename": "NameError",
     "evalue": "name 'pd' is not defined",
     "output_type": "error",
     "traceback": [
      "\u001b[0;31m---------------------------------------------------------------------------\u001b[0m",
      "\u001b[0;31mNameError\u001b[0m                                 Traceback (most recent call last)",
      "\u001b[0;32m<ipython-input-1-3bb0ab69a803>\u001b[0m in \u001b[0;36m<module>\u001b[0;34m()\u001b[0m\n\u001b[0;32m----> 1\u001b[0;31m \u001b[0mpd\u001b[0m\u001b[0;34m.\u001b[0m\u001b[0mread_csv\u001b[0m\u001b[0;34m(\u001b[0m\u001b[0;34m\"data/category_labels.csv\"\u001b[0m\u001b[0;34m)\u001b[0m\u001b[0;34m.\u001b[0m\u001b[0minfo\u001b[0m\u001b[0;34m(\u001b[0m\u001b[0;34m)\u001b[0m\u001b[0;34m\u001b[0m\u001b[0m\n\u001b[0m",
      "\u001b[0;31mNameError\u001b[0m: name 'pd' is not defined"
     ]
    }
   ],
   "source": [
    "pd.read_csv(\"data/category_labels.csv\").info()"
   ]
  },
  {
   "cell_type": "code",
   "execution_count": null,
   "metadata": {
    "collapsed": true,
    "deletable": true,
    "editable": true
   },
   "outputs": [],
   "source": []
  },
  {
   "cell_type": "code",
   "execution_count": null,
   "metadata": {
    "collapsed": true,
    "deletable": true,
    "editable": true
   },
   "outputs": [],
   "source": []
  },
  {
   "cell_type": "code",
   "execution_count": null,
   "metadata": {
    "collapsed": true,
    "deletable": true,
    "editable": true
   },
   "outputs": [],
   "source": []
  },
  {
   "cell_type": "code",
   "execution_count": null,
   "metadata": {
    "collapsed": true,
    "deletable": true,
    "editable": true
   },
   "outputs": [],
   "source": []
  },
  {
   "cell_type": "code",
   "execution_count": null,
   "metadata": {
    "collapsed": true,
    "deletable": true,
    "editable": true
   },
   "outputs": [],
   "source": []
  },
  {
   "cell_type": "code",
   "execution_count": null,
   "metadata": {
    "collapsed": true,
    "deletable": true,
    "editable": true
   },
   "outputs": [],
   "source": []
  },
  {
   "cell_type": "code",
   "execution_count": null,
   "metadata": {
    "collapsed": true,
    "deletable": true,
    "editable": true
   },
   "outputs": [],
   "source": []
  },
  {
   "cell_type": "code",
   "execution_count": null,
   "metadata": {
    "collapsed": true,
    "deletable": true,
    "editable": true
   },
   "outputs": [],
   "source": []
  },
  {
   "cell_type": "code",
   "execution_count": null,
   "metadata": {
    "collapsed": true,
    "deletable": true,
    "editable": true
   },
   "outputs": [],
   "source": []
  }
 ],
 "metadata": {
  "kernelspec": {
   "display_name": "Python 3",
   "language": "python",
   "name": "python3"
  },
  "language_info": {
   "codemirror_mode": {
    "name": "ipython",
    "version": 3
   },
   "file_extension": ".py",
   "mimetype": "text/x-python",
   "name": "python",
   "nbconvert_exporter": "python",
   "pygments_lexer": "ipython3",
   "version": "3.5.3"
  }
 },
 "nbformat": 4,
 "nbformat_minor": 2
}
